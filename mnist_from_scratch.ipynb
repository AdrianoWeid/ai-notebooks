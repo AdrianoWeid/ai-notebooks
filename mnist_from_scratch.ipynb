{
 "cells": [
  {
   "cell_type": "code",
   "execution_count": 1,
   "metadata": {},
   "outputs": [],
   "source": [
    "def fetch(url):\n",
    "    import pathlib, requests,os, hashlib, numpy, gzip\n",
    "    fp = os.path.join(\"/tmp\", hashlib.md5(url.encode(\"utf-8\")).hexdigest())\n",
    "    if(os.path.isfile(fp)):\n",
    "        with open(fp, \"rb\") as f:\n",
    "            dat = f.read()\n",
    "    else:\n",
    "        with open(fp, \"wb\") as f:\n",
    "            dat = requests.get(url).content\n",
    "            f.write(dat)\n",
    "    return numpy.frombuffer(gzip.decompress(dat), dtype=numpy.uint8).copy()\n",
    "            \n",
    "\n"
   ]
  },
  {
   "cell_type": "code",
   "execution_count": 2,
   "metadata": {},
   "outputs": [],
   "source": [
    "#fetch data\n",
    "X_train = fetch(\"https://ossci-datasets.s3.amazonaws.com/mnist/train-images-idx3-ubyte.gz\")\n",
    "Y_train = fetch(\"https://ossci-datasets.s3.amazonaws.com/mnist/train-labels-idx1-ubyte.gz\")\n",
    "X_test = fetch(\"https://ossci-datasets.s3.amazonaws.com/mnist/t10k-images-idx3-ubyte.gz\")\n",
    "Y_test = fetch(\"https://ossci-datasets.s3.amazonaws.com/mnist/t10k-labels-idx1-ubyte.gz\")"
   ]
  },
  {
   "cell_type": "code",
   "execution_count": 3,
   "metadata": {},
   "outputs": [
    {
     "name": "stdout",
     "output_type": "stream",
     "text": [
      "[5 9 0 ... 4 5 6]\n"
     ]
    }
   ],
   "source": [
    "#normalize pixel\n",
    "def preprocess_mnist(data):\n",
    "    data = data[16:]   \n",
    "    images = data.reshape(-1, 28, 28) \n",
    "    images = images.astype('float32') / 255.0\n",
    "    \n",
    "    return images\n",
    "\n",
    "X_train_normalized = preprocess_mnist(X_train)\n",
    "X_test_normalized = preprocess_mnist(X_test)"
   ]
  },
  {
   "cell_type": "code",
   "execution_count": null,
   "metadata": {},
   "outputs": [],
   "source": [
    "#one-hot encoding\n",
    "def one_hot_encoding(data):\n",
    "    data = data[8:]\n",
    "    len_column = len(data)\n",
    "    result = []\n",
    "\n",
    "    for i in range(len_column):\n",
    "        row = [1 if j==data[i] else 0 for j in range(10)]\n",
    "\n",
    "        result.append(row)\n",
    "        \n",
    "    return result\n",
    "\n",
    "print(one_hot_encoding(Y_train))\n"
   ]
  },
  {
   "cell_type": "code",
   "execution_count": null,
   "metadata": {},
   "outputs": [],
   "source": []
  }
 ],
 "metadata": {
  "kernelspec": {
   "display_name": "Python 3 (ipykernel)",
   "language": "python",
   "name": "python3"
  },
  "language_info": {
   "codemirror_mode": {
    "name": "ipython",
    "version": 3
   },
   "file_extension": ".py",
   "mimetype": "text/x-python",
   "name": "python",
   "nbconvert_exporter": "python",
   "pygments_lexer": "ipython3",
   "version": "3.12.5"
  }
 },
 "nbformat": 4,
 "nbformat_minor": 4
}
