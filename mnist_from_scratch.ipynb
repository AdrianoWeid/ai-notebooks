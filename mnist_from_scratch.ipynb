{
 "cells": [
  {
   "cell_type": "code",
   "execution_count": 8,
   "metadata": {},
   "outputs": [],
   "source": [
    "import numpy as np\n",
    "\n",
    "def fetch(url):\n",
    "    import pathlib, requests,os, hashlib, numpy, gzip\n",
    "    fp = os.path.join(\"/tmp\", hashlib.md5(url.encode(\"utf-8\")).hexdigest())\n",
    "    if(os.path.isfile(fp)):\n",
    "        with open(fp, \"rb\") as f:\n",
    "            dat = f.read()\n",
    "    else:\n",
    "        with open(fp, \"wb\") as f:\n",
    "            dat = requests.get(url).content\n",
    "            f.write(dat)\n",
    "    return numpy.frombuffer(gzip.decompress(dat), dtype=numpy.uint8).copy()\n",
    "            \n",
    "\n"
   ]
  },
  {
   "cell_type": "code",
   "execution_count": 9,
   "metadata": {},
   "outputs": [],
   "source": [
    "#fetch data\n",
    "X_train = fetch(\"https://ossci-datasets.s3.amazonaws.com/mnist/train-images-idx3-ubyte.gz\")\n",
    "Y_train = fetch(\"https://ossci-datasets.s3.amazonaws.com/mnist/train-labels-idx1-ubyte.gz\")\n",
    "X_test = fetch(\"https://ossci-datasets.s3.amazonaws.com/mnist/t10k-images-idx3-ubyte.gz\")\n",
    "Y_test = fetch(\"https://ossci-datasets.s3.amazonaws.com/mnist/t10k-labels-idx1-ubyte.gz\")"
   ]
  },
  {
   "cell_type": "code",
   "execution_count": 10,
   "metadata": {},
   "outputs": [],
   "source": [
    "#normalize pixel\n",
    "def preprocess_mnist(data):\n",
    "    data = data[16:]   \n",
    "    images = data.reshape(-1, 28, 28) \n",
    "    images = images.astype('float32') / 255.0\n",
    "    \n",
    "    return images\n",
    "\n",
    "X_train_normalized = preprocess_mnist(X_train)\n",
    "X_test_normalized = preprocess_mnist(X_test)"
   ]
  },
  {
   "cell_type": "code",
   "execution_count": 11,
   "metadata": {},
   "outputs": [],
   "source": [
    "#one-hot encoding\n",
    "def one_hot_encoding(data):\n",
    "    data = data[8:]\n",
    "    \n",
    "    n_labels = len(data)\n",
    "    one_hot = np.zeros((n_labels, 10), dtype=np.int8)\n",
    "    \n",
    "    one_hot[np.arange(n_labels), data] = 1\n",
    "    \n",
    "    return one_hot\n",
    "    \n",
    "X_train = one_hot_encoding(Y_train)\n",
    "Y_train = one_hot_encoding(Y_train)\n",
    "\n",
    "class Model:\n",
    "    def __init__(self, input_size, hidden_size, output_size):\n",
    "        self.rng = np.random.default_rng()\n",
    "        \n",
    "        # Initialisierung der Gewichte mit der layer_init Funktion\n",
    "        self.W1 = self.layer_init(input_size, hidden_size)\n",
    "        self.W2 = self.layer_init(hidden_size, output_size)\n",
    "        \n",
    "        # Initialisierung der Biases mit Nullen\n",
    "        self.b1 = np.zeros((1, hidden_size), dtype=np.float32)\n",
    "        self.b2 = np.zeros((1, output_size), dtype=np.float32)\n",
    "\n",
    "    def layer_init(self, m, h):\n",
    "        # Gleichverteilte Initialisierung\n",
    "        ret = self.rng.uniform(-1., 1., size=(m, h)) / np.sqrt(m * h)\n",
    "        return ret.astype(np.float32)"
   ]
  },
  {
   "cell_type": "code",
   "execution_count": null,
   "metadata": {},
   "outputs": [],
   "source": [
    "nn = SimpleNeuralNetwork(784, 128, 10)"
   ]
  },
  {
   "cell_type": "code",
   "execution_count": null,
   "metadata": {},
   "outputs": [],
   "source": []
  }
 ],
 "metadata": {
  "kernelspec": {
   "display_name": "Python 3 (ipykernel)",
   "language": "python",
   "name": "python3"
  },
  "language_info": {
   "codemirror_mode": {
    "name": "ipython",
    "version": 3
   },
   "file_extension": ".py",
   "mimetype": "text/x-python",
   "name": "python",
   "nbconvert_exporter": "python",
   "pygments_lexer": "ipython3",
   "version": "3.12.6"
  }
 },
 "nbformat": 4,
 "nbformat_minor": 4
}
